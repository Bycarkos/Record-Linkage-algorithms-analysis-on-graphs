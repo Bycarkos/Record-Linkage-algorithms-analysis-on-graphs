{
 "cells": [
  {
   "cell_type": "code",
   "execution_count": 320,
   "id": "loved-omega",
   "metadata": {},
   "outputs": [],
   "source": [
    "import numpy as np\n",
    "import pandas as pd\n",
    "from scipy.spatial.distance import jensenshannon, minkowski, euclidean, cosine\n",
    "from sklearn import metrics\n",
    "from sklearn.metrics import confusion_matrix, f1_score, roc_auc_score, roc_curve\n",
    "from neo4j import GraphDatabase\n",
    "import matplotlib.pyplot as plt\n",
    "from matplotlib import pyplot\n",
    "import pickle as pkl"
   ]
  },
  {
   "cell_type": "markdown",
   "id": "broke-turner",
   "metadata": {},
   "source": [
    "## CLASS to get the embeddings "
   ]
  },
  {
   "cell_type": "code",
   "execution_count": 446,
   "id": "dedicated-batman",
   "metadata": {},
   "outputs": [
    {
     "name": "stdout",
     "output_type": "stream",
     "text": [
      "Dumping df into pickle\n",
      "dataframe dumped correctly\n"
     ]
    }
   ],
   "source": [
    "class Get_Embedding(object):\n",
    "    \n",
    "    def __init__(self, uri, user, password, database=None):\n",
    "        self._driver = GraphDatabase.driver(uri, auth=(user, password))\n",
    "        self._session = self._driver.session() if database is None else self._driver.session(database=database)\n",
    "        self._tx = None\n",
    "        \n",
    "    def close(self):\n",
    "        self._driver.close()\n",
    "        \n",
    "    def get_embeddings(self, prop):\n",
    "        \n",
    "        with self._session as session:\n",
    "            embeddings = session.write_transaction(self._get_embedding, prop)\n",
    "            \n",
    "        p = pd.DataFrame(embeddings)\n",
    "        print(\"Dumping df into pickle\")\n",
    "        self.safe_pickle(p, prop+\"_embeddings\")\n",
    "        return p\n",
    "    \n",
    "    def safe_pickle(self, df:pd.DataFrame, name:str ,safe_path:str=\"Experiments_embeddings_pickles/\"):\n",
    "        try:\n",
    "            df.to_pickle(safe_path+name+\".pkl\")\n",
    "            print(\"dataframe dumped correctly\")\n",
    "        except:\n",
    "            print(\"error dumping dataframe, closing... \")\n",
    "            self.close()\n",
    "            sys.exit(1)\n",
    "        return df\n",
    "        \n",
    "    \n",
    "    @staticmethod\n",
    "    def _get_embedding(tx, prop):\n",
    "        \n",
    "        dataframe = {\"src\":[], \"trg\": [], \"src_emb\": [], \"trg_emb\":[], \"gt\":[]}\n",
    "        result = tx.run(\n",
    "                \"match (n:Individual)-[r:Candidate_Pairs]-(m:Individual) \"\n",
    "                \"with n._id as src, m._id as trg, n.{} as emb1, m.{} as emb2, r.class as gt \"\n",
    "                \"return src, trg, gt, emb1 , emb2 \".format(prop, prop)\n",
    "        )\n",
    "        for registre in result:\n",
    "            dataframe[\"src\"].append(registre[\"src\"])\n",
    "            dataframe[\"trg\"].append(registre[\"trg\"])\n",
    "            dataframe[\"src_emb\"].append(registre[\"emb1\"])\n",
    "            dataframe[\"trg_emb\"].append(registre[\"emb2\"])\n",
    "            dataframe[\"gt\"].append(registre[\"gt\"])\n",
    "            \n",
    "        return dataframe\n",
    "    \n",
    "Emb = Get_Embedding(\"bolt://localhost:11012\", \"neo4j\", \"1234\", \"tfg\")\n",
    "p = Emb.get_embeddings(\"Experiment1\")"
   ]
  },
  {
   "cell_type": "markdown",
   "id": "divine-advocacy",
   "metadata": {},
   "source": [
    "## GMEAN and Youden's J statistic"
   ]
  },
  {
   "cell_type": "code",
   "execution_count": 364,
   "id": "weighted-runner",
   "metadata": {},
   "outputs": [],
   "source": [
    "def J_statistic(y_true:list, y_score:list):\n",
    "    fpr, tpr, thresholds = metrics.roc_curve(y_true, y_score)\n",
    "    # get the best threshold\n",
    "    J = tpr - fpr\n",
    "    ix = np.argmax(J)\n",
    "    best_thresh = thresholds[ix]\n",
    "    print('Best Threshold=%f' % (best_thresh))\n",
    "    \n",
    "        # plot the roc curve for the model\n",
    "    pyplot.plot([0,1], [0,1], linestyle='--', label='No Skill')\n",
    "    pyplot.plot(fpr, tpr, marker='.', label='Logistic')\n",
    "    pyplot.scatter(fpr[ix], tpr[ix], marker='o', color='black', label='Best')\n",
    "    # axis labels\n",
    "    pyplot.xlabel('False Positive Rate')\n",
    "    pyplot.ylabel('True Positive Rate')\n",
    "    pyplot.legend()\n",
    "    # show the plot\n",
    "    pyplot.show()\n",
    "    return best_thresh\n",
    "    \n",
    "\n",
    "def G_mean(y_true:list, y_score:list):\n",
    "    fpr, tpr, thresholds = metrics.roc_curve(y_true, y_score)\n",
    "    # calculate the g-mean for each threshold\n",
    "    gmeans = np.sqrt(tpr * (1-fpr))\n",
    "    # locate the index of the largest g-mean\n",
    "    ix = np.argmax(gmeans)\n",
    "    print('Best Threshold=%f, G-Mean=%.3f' % (thresholds[ix], gmeans[ix]))\n",
    "    # plot the roc curve for the model\n",
    "    pyplot.plot([0,1], [0,1], linestyle='--', label='No Skill')\n",
    "    pyplot.plot(fpr, tpr, marker='.', label='Logistic')\n",
    "    pyplot.scatter(fpr[ix], tpr[ix], marker='o', color='black', label='Best')\n",
    "    # axis labels\n",
    "    pyplot.xlabel('False Positive Rate')\n",
    "    pyplot.ylabel('True Positive Rate')\n",
    "    pyplot.legend()\n",
    "    # show the plot\n",
    "    pyplot.show()\n",
    "    return thresholds[ix]"
   ]
  },
  {
   "cell_type": "markdown",
   "id": "tutorial-geology",
   "metadata": {},
   "source": [
    "## SIMILARITY FUNCTIONS"
   ]
  },
  {
   "cell_type": "code",
   "execution_count": 365,
   "id": "applicable-spotlight",
   "metadata": {},
   "outputs": [],
   "source": [
    "def smoothed_sigmoide(x):\n",
    "    numerator = x - np.mean(x)\n",
    "    denominator = np.std(x)\n",
    "    fraction = numerator / denominator\n",
    "\n",
    "    return 1.0 / (1.0 + np.exp(-fraction))\n",
    "\n",
    "def Jensen_sim(p:list,q:list, smoothed=False):\n",
    "    p_x = smoothed_sigmoide(p) if smoothed == True else p\n",
    "    q_x = smoothed_sigmoide(q) if smoothed == True else q\n",
    "    return jensenshannon(p_x,q_x)\n",
    "\n",
    "    \n",
    "def Minkowski(u,v):\n",
    "    return minkowski(u,v)\n",
    "\n"
   ]
  },
  {
   "cell_type": "code",
   "execution_count": 366,
   "id": "offensive-baltimore",
   "metadata": {},
   "outputs": [],
   "source": [
    "def conver_sim_to_column(df:pd.DataFrame, name_column:str, sim_function):\n",
    "    df[name_column] = df.apply(lambda x: sim_function(x[\"src_emb\"], x[\"trg_emb\"]), axis=1)\n",
    "\n",
    "def prepare_df_to_compare(df:pd.DataFrame, function_names:list = [Minkowski, Jensen_sim],num_experiment:int = 5):\n",
    "    column_name = [\"Exp\"+str(num_experiment)+i.__name__ for i in function_names ]\n",
    "    for name, func in zip(column_name, function_names):\n",
    "        \n",
    "        conver_sim_to_column(df, name, func)\n",
    "        \n",
    "    return df\n",
    "#p = prepare_df_to_compare(p)\n",
    "#p = p.fillna(0)"
   ]
  },
  {
   "cell_type": "markdown",
   "id": "everyday-delay",
   "metadata": {},
   "source": [
    "## Metrics"
   ]
  },
  {
   "cell_type": "code",
   "execution_count": 97,
   "id": "wireless-moses",
   "metadata": {},
   "outputs": [],
   "source": [
    "def auc_score(gt, values):\n",
    "    return roc_auc_score(gt, values)\n",
    "\n",
    "def conf(gt:list, pred:list):\n",
    "    return confusion_matrix(gt, pred)\n",
    "\n",
    "def apply_threshold(df:pd.DataFrame, name_sim:str, name_colum:str, model):\n",
    "    assert \"gt\" in df.columns and name_sim in df.columns\n",
    "    best_thres = get_best_threshold(df[\"gt\"].values, df[name_sim].values, model)\n",
    "    \n",
    "    df[name_colum] = df.apply(lambda row: int(row[name_sim] > best_thres), axis=1)\n",
    "    return df\n",
    "       \n",
    "\n",
    "def get_best_threshold(gt:list, similarities:list, model):\n",
    "    th = model(gt, similarities)\n",
    "    return th\n",
    "\n",
    "def euclidean_transform(values:list):\n",
    "    return 1/(1+ values)\n",
    "    \n",
    "\n",
    "def logi(array):\n",
    "    return 1/(1+(1/math.e**(300*array)))\n"
   ]
  },
  {
   "cell_type": "markdown",
   "id": "hazardous-cardiff",
   "metadata": {},
   "source": [
    "# COSINE RESULTS OF DIFF EXPERIMENTS"
   ]
  },
  {
   "cell_type": "code",
   "execution_count": 448,
   "id": "union-fever",
   "metadata": {},
   "outputs": [],
   "source": [
    "df = pd.read_csv(\"Experiment3.csv\", sep=\",\")"
   ]
  },
  {
   "cell_type": "code",
   "execution_count": 449,
   "id": "convinced-functionality",
   "metadata": {},
   "outputs": [
    {
     "data": {
      "text/html": [
       "<div>\n",
       "<style scoped>\n",
       "    .dataframe tbody tr th:only-of-type {\n",
       "        vertical-align: middle;\n",
       "    }\n",
       "\n",
       "    .dataframe tbody tr th {\n",
       "        vertical-align: top;\n",
       "    }\n",
       "\n",
       "    .dataframe thead th {\n",
       "        text-align: right;\n",
       "    }\n",
       "</style>\n",
       "<table border=\"1\" class=\"dataframe\">\n",
       "  <thead>\n",
       "    <tr style=\"text-align: right;\">\n",
       "      <th></th>\n",
       "      <th>src</th>\n",
       "      <th>trg</th>\n",
       "      <th>cos</th>\n",
       "      <th>eucl</th>\n",
       "      <th>gt</th>\n",
       "    </tr>\n",
       "  </thead>\n",
       "  <tbody>\n",
       "    <tr>\n",
       "      <th>0</th>\n",
       "      <td>191000010001</td>\n",
       "      <td>191521980461</td>\n",
       "      <td>0.999976</td>\n",
       "      <td>0.993164</td>\n",
       "      <td>0</td>\n",
       "    </tr>\n",
       "    <tr>\n",
       "      <th>1</th>\n",
       "      <td>191000010001</td>\n",
       "      <td>191532110682</td>\n",
       "      <td>0.999995</td>\n",
       "      <td>0.996719</td>\n",
       "      <td>1</td>\n",
       "    </tr>\n",
       "    <tr>\n",
       "      <th>2</th>\n",
       "      <td>191000010001</td>\n",
       "      <td>191528850615</td>\n",
       "      <td>0.999940</td>\n",
       "      <td>0.989136</td>\n",
       "      <td>0</td>\n",
       "    </tr>\n",
       "    <tr>\n",
       "      <th>3</th>\n",
       "      <td>191000010001</td>\n",
       "      <td>191508030161</td>\n",
       "      <td>0.999941</td>\n",
       "      <td>0.989214</td>\n",
       "      <td>0</td>\n",
       "    </tr>\n",
       "    <tr>\n",
       "      <th>4</th>\n",
       "      <td>191000010001</td>\n",
       "      <td>191503220068</td>\n",
       "      <td>0.999944</td>\n",
       "      <td>0.989528</td>\n",
       "      <td>0</td>\n",
       "    </tr>\n",
       "    <tr>\n",
       "      <th>...</th>\n",
       "      <td>...</td>\n",
       "      <td>...</td>\n",
       "      <td>...</td>\n",
       "      <td>...</td>\n",
       "      <td>...</td>\n",
       "    </tr>\n",
       "    <tr>\n",
       "      <th>249773</th>\n",
       "      <td>193063911476</td>\n",
       "      <td>192433190660</td>\n",
       "      <td>0.999955</td>\n",
       "      <td>0.990640</td>\n",
       "      <td>0</td>\n",
       "    </tr>\n",
       "    <tr>\n",
       "      <th>249774</th>\n",
       "      <td>193063911476</td>\n",
       "      <td>192430700610</td>\n",
       "      <td>0.999974</td>\n",
       "      <td>0.992835</td>\n",
       "      <td>0</td>\n",
       "    </tr>\n",
       "    <tr>\n",
       "      <th>249775</th>\n",
       "      <td>193063911476</td>\n",
       "      <td>192450511001</td>\n",
       "      <td>0.999976</td>\n",
       "      <td>0.993050</td>\n",
       "      <td>0</td>\n",
       "    </tr>\n",
       "    <tr>\n",
       "      <th>249776</th>\n",
       "      <td>193063911476</td>\n",
       "      <td>192450491001</td>\n",
       "      <td>1.000000</td>\n",
       "      <td>0.999741</td>\n",
       "      <td>1</td>\n",
       "    </tr>\n",
       "    <tr>\n",
       "      <th>249777</th>\n",
       "      <td>193063911476</td>\n",
       "      <td>192444890897</td>\n",
       "      <td>0.999945</td>\n",
       "      <td>0.989608</td>\n",
       "      <td>0</td>\n",
       "    </tr>\n",
       "  </tbody>\n",
       "</table>\n",
       "<p>249778 rows × 5 columns</p>\n",
       "</div>"
      ],
      "text/plain": [
       "                 src           trg       cos      eucl  gt\n",
       "0       191000010001  191521980461  0.999976  0.993164   0\n",
       "1       191000010001  191532110682  0.999995  0.996719   1\n",
       "2       191000010001  191528850615  0.999940  0.989136   0\n",
       "3       191000010001  191508030161  0.999941  0.989214   0\n",
       "4       191000010001  191503220068  0.999944  0.989528   0\n",
       "...              ...           ...       ...       ...  ..\n",
       "249773  193063911476  192433190660  0.999955  0.990640   0\n",
       "249774  193063911476  192430700610  0.999974  0.992835   0\n",
       "249775  193063911476  192450511001  0.999976  0.993050   0\n",
       "249776  193063911476  192450491001  1.000000  0.999741   1\n",
       "249777  193063911476  192444890897  0.999945  0.989608   0\n",
       "\n",
       "[249778 rows x 5 columns]"
      ]
     },
     "execution_count": 449,
     "metadata": {},
     "output_type": "execute_result"
    }
   ],
   "source": [
    "df"
   ]
  },
  {
   "cell_type": "code",
   "execution_count": 450,
   "id": "compressed-subsection",
   "metadata": {},
   "outputs": [
    {
     "name": "stdout",
     "output_type": "stream",
     "text": [
      "Best Threshold=0.999980\n"
     ]
    },
    {
     "data": {
      "image/png": "[encoded data removed]",
      "text/plain": [
       "<Figure size 432x288 with 1 Axes>"
      ]
     },
     "metadata": {
      "needs_background": "light"
     },
     "output_type": "display_data"
    }
   ],
   "source": [
    "df = apply_threshold(df,\"cos\", \"pred_cos\", J_statistic)"
   ]
  },
  {
   "cell_type": "markdown",
   "id": "finished-definition",
   "metadata": {},
   "source": [
    "# EUCLIDEAN RESULTS"
   ]
  },
  {
   "cell_type": "code",
   "execution_count": 453,
   "id": "heated-arthur",
   "metadata": {},
   "outputs": [
    {
     "name": "stdout",
     "output_type": "stream",
     "text": [
      "Best Threshold=0.993639\n"
     ]
    },
    {
     "data": {
      "image/png": "[encoded data removed]",
      "text/plain": [
       "<Figure size 432x288 with 1 Axes>"
      ]
     },
     "metadata": {
      "needs_background": "light"
     },
     "output_type": "display_data"
    }
   ],
   "source": [
    "df = apply_threshold(df,\"eucl\", \"pred_euc\", J_statistic)"
   ]
  },
  {
   "cell_type": "markdown",
   "id": "protected-toronto",
   "metadata": {},
   "source": [
    "# SHANNON JENSEN AND MINKOWSKI"
   ]
  },
  {
   "cell_type": "code",
   "execution_count": 457,
   "id": "vocal-premises",
   "metadata": {},
   "outputs": [],
   "source": [
    "df5 = pd.read_pickle(\"Experiments_embeddings_pickles/Experiment3_embeddings.pkl\")"
   ]
  },
  {
   "cell_type": "code",
   "execution_count": 458,
   "id": "immune-findings",
   "metadata": {},
   "outputs": [],
   "source": [
    "df5 = prepare_df_to_compare(df5)\n",
    "df5 = df5.fillna(0)"
   ]
  },
  {
   "cell_type": "code",
   "execution_count": 459,
   "id": "dirty-receipt",
   "metadata": {},
   "outputs": [
    {
     "data": {
      "text/html": [
       "<div>\n",
       "<style scoped>\n",
       "    .dataframe tbody tr th:only-of-type {\n",
       "        vertical-align: middle;\n",
       "    }\n",
       "\n",
       "    .dataframe tbody tr th {\n",
       "        vertical-align: top;\n",
       "    }\n",
       "\n",
       "    .dataframe thead th {\n",
       "        text-align: right;\n",
       "    }\n",
       "</style>\n",
       "<table border=\"1\" class=\"dataframe\">\n",
       "  <thead>\n",
       "    <tr style=\"text-align: right;\">\n",
       "      <th></th>\n",
       "      <th>src</th>\n",
       "      <th>trg</th>\n",
       "      <th>src_emb</th>\n",
       "      <th>trg_emb</th>\n",
       "      <th>gt</th>\n",
       "      <th>Exp5Minkowski</th>\n",
       "      <th>Exp5Jensen_sim</th>\n",
       "    </tr>\n",
       "  </thead>\n",
       "  <tbody>\n",
       "    <tr>\n",
       "      <th>0</th>\n",
       "      <td>191000010001</td>\n",
       "      <td>191521980461</td>\n",
       "      <td>[0.06695859641596831, 0.10330248800546933, 0.0...</td>\n",
       "      <td>[0.06692311695937064, 0.10201294729263234, 0.0...</td>\n",
       "      <td>0</td>\n",
       "      <td>0.006883</td>\n",
       "      <td>0.003126</td>\n",
       "    </tr>\n",
       "    <tr>\n",
       "      <th>1</th>\n",
       "      <td>191000010001</td>\n",
       "      <td>191532110682</td>\n",
       "      <td>[0.06695859641596831, 0.10330248800546933, 0.0...</td>\n",
       "      <td>[0.06730908019375564, 0.10341904188356997, 0.0...</td>\n",
       "      <td>1</td>\n",
       "      <td>0.003292</td>\n",
       "      <td>0.001397</td>\n",
       "    </tr>\n",
       "    <tr>\n",
       "      <th>2</th>\n",
       "      <td>191000010001</td>\n",
       "      <td>191528850615</td>\n",
       "      <td>[0.06695859641596831, 0.10330248800546933, 0.0...</td>\n",
       "      <td>[0.06505079732876776, 0.10263819473437871, 0.0...</td>\n",
       "      <td>0</td>\n",
       "      <td>0.010983</td>\n",
       "      <td>0.004868</td>\n",
       "    </tr>\n",
       "    <tr>\n",
       "      <th>3</th>\n",
       "      <td>191000010001</td>\n",
       "      <td>191508030161</td>\n",
       "      <td>[0.06695859641596831, 0.10330248800546933, 0.0...</td>\n",
       "      <td>[0.0658367030822263, 0.10170934154679492, 0.07...</td>\n",
       "      <td>0</td>\n",
       "      <td>0.010903</td>\n",
       "      <td>0.004786</td>\n",
       "    </tr>\n",
       "    <tr>\n",
       "      <th>4</th>\n",
       "      <td>191000010001</td>\n",
       "      <td>191503220068</td>\n",
       "      <td>[0.06695859641596831, 0.10330248800546933, 0.0...</td>\n",
       "      <td>[0.06562969890822846, 0.10178162030694697, 0.0...</td>\n",
       "      <td>0</td>\n",
       "      <td>0.010583</td>\n",
       "      <td>0.004635</td>\n",
       "    </tr>\n",
       "    <tr>\n",
       "      <th>...</th>\n",
       "      <td>...</td>\n",
       "      <td>...</td>\n",
       "      <td>...</td>\n",
       "      <td>...</td>\n",
       "      <td>...</td>\n",
       "      <td>...</td>\n",
       "      <td>...</td>\n",
       "    </tr>\n",
       "    <tr>\n",
       "      <th>249773</th>\n",
       "      <td>193063911476</td>\n",
       "      <td>192433190660</td>\n",
       "      <td>[0.06711666739359026, 0.1012911291806077, 0.07...</td>\n",
       "      <td>[0.06574412463359533, 0.10110653435040172, 0.0...</td>\n",
       "      <td>0</td>\n",
       "      <td>0.009448</td>\n",
       "      <td>0.004111</td>\n",
       "    </tr>\n",
       "    <tr>\n",
       "      <th>249774</th>\n",
       "      <td>193063911476</td>\n",
       "      <td>192430700610</td>\n",
       "      <td>[0.06711666739359026, 0.1012911291806077, 0.07...</td>\n",
       "      <td>[0.06691459361740863, 0.10024674102508183, 0.0...</td>\n",
       "      <td>0</td>\n",
       "      <td>0.007216</td>\n",
       "      <td>0.003231</td>\n",
       "    </tr>\n",
       "    <tr>\n",
       "      <th>249775</th>\n",
       "      <td>193063911476</td>\n",
       "      <td>192450511001</td>\n",
       "      <td>[0.06711666739359026, 0.1012911291806077, 0.07...</td>\n",
       "      <td>[0.06732515022574384, 0.10143853694426005, 0.0...</td>\n",
       "      <td>0</td>\n",
       "      <td>0.006999</td>\n",
       "      <td>0.002942</td>\n",
       "    </tr>\n",
       "    <tr>\n",
       "      <th>249776</th>\n",
       "      <td>193063911476</td>\n",
       "      <td>192450491001</td>\n",
       "      <td>[0.06711666739359026, 0.1012911291806077, 0.07...</td>\n",
       "      <td>[0.0671691366897347, 0.1012804888111666, 0.071...</td>\n",
       "      <td>1</td>\n",
       "      <td>0.000259</td>\n",
       "      <td>0.000113</td>\n",
       "    </tr>\n",
       "    <tr>\n",
       "      <th>249777</th>\n",
       "      <td>193063911476</td>\n",
       "      <td>192444890897</td>\n",
       "      <td>[0.06711666739359026, 0.1012911291806077, 0.07...</td>\n",
       "      <td>[0.06635712985740289, 0.10151899409388633, 0.0...</td>\n",
       "      <td>0</td>\n",
       "      <td>0.010501</td>\n",
       "      <td>0.004454</td>\n",
       "    </tr>\n",
       "  </tbody>\n",
       "</table>\n",
       "<p>249778 rows × 7 columns</p>\n",
       "</div>"
      ],
      "text/plain": [
       "                 src           trg  \\\n",
       "0       191000010001  191521980461   \n",
       "1       191000010001  191532110682   \n",
       "2       191000010001  191528850615   \n",
       "3       191000010001  191508030161   \n",
       "4       191000010001  191503220068   \n",
       "...              ...           ...   \n",
       "249773  193063911476  192433190660   \n",
       "249774  193063911476  192430700610   \n",
       "249775  193063911476  192450511001   \n",
       "249776  193063911476  192450491001   \n",
       "249777  193063911476  192444890897   \n",
       "\n",
       "                                                  src_emb  \\\n",
       "0       [0.06695859641596831, 0.10330248800546933, 0.0...   \n",
       "1       [0.06695859641596831, 0.10330248800546933, 0.0...   \n",
       "2       [0.06695859641596831, 0.10330248800546933, 0.0...   \n",
       "3       [0.06695859641596831, 0.10330248800546933, 0.0...   \n",
       "4       [0.06695859641596831, 0.10330248800546933, 0.0...   \n",
       "...                                                   ...   \n",
       "249773  [0.06711666739359026, 0.1012911291806077, 0.07...   \n",
       "249774  [0.06711666739359026, 0.1012911291806077, 0.07...   \n",
       "249775  [0.06711666739359026, 0.1012911291806077, 0.07...   \n",
       "249776  [0.06711666739359026, 0.1012911291806077, 0.07...   \n",
       "249777  [0.06711666739359026, 0.1012911291806077, 0.07...   \n",
       "\n",
       "                                                  trg_emb  gt  Exp5Minkowski  \\\n",
       "0       [0.06692311695937064, 0.10201294729263234, 0.0...   0       0.006883   \n",
       "1       [0.06730908019375564, 0.10341904188356997, 0.0...   1       0.003292   \n",
       "2       [0.06505079732876776, 0.10263819473437871, 0.0...   0       0.010983   \n",
       "3       [0.0658367030822263, 0.10170934154679492, 0.07...   0       0.010903   \n",
       "4       [0.06562969890822846, 0.10178162030694697, 0.0...   0       0.010583   \n",
       "...                                                   ...  ..            ...   \n",
       "249773  [0.06574412463359533, 0.10110653435040172, 0.0...   0       0.009448   \n",
       "249774  [0.06691459361740863, 0.10024674102508183, 0.0...   0       0.007216   \n",
       "249775  [0.06732515022574384, 0.10143853694426005, 0.0...   0       0.006999   \n",
       "249776  [0.0671691366897347, 0.1012804888111666, 0.071...   1       0.000259   \n",
       "249777  [0.06635712985740289, 0.10151899409388633, 0.0...   0       0.010501   \n",
       "\n",
       "        Exp5Jensen_sim  \n",
       "0             0.003126  \n",
       "1             0.001397  \n",
       "2             0.004868  \n",
       "3             0.004786  \n",
       "4             0.004635  \n",
       "...                ...  \n",
       "249773        0.004111  \n",
       "249774        0.003231  \n",
       "249775        0.002942  \n",
       "249776        0.000113  \n",
       "249777        0.004454  \n",
       "\n",
       "[249778 rows x 7 columns]"
      ]
     },
     "execution_count": 459,
     "metadata": {},
     "output_type": "execute_result"
    }
   ],
   "source": [
    "df5"
   ]
  },
  {
   "cell_type": "code",
   "execution_count": 484,
   "id": "exposed-illinois",
   "metadata": {},
   "outputs": [],
   "source": [
    "df5[\"Exp5Minkowski\"] = (euclidean_transform(smoothed_sigmoide(df5[\"Exp5Minkowski\"])))"
   ]
  },
  {
   "cell_type": "code",
   "execution_count": 491,
   "id": "endangered-exploration",
   "metadata": {},
   "outputs": [
    {
     "name": "stdout",
     "output_type": "stream",
     "text": [
      "Best Threshold=0.799997\n"
     ]
    },
    {
     "data": {
      "image/png": "[encoded data removed]",
      "text/plain": [
       "<Figure size 432x288 with 1 Axes>"
      ]
     },
     "metadata": {
      "needs_background": "light"
     },
     "output_type": "display_data"
    }
   ],
   "source": [
    "df5 = apply_threshold(df5, \"Exp5Minkowski\", \"pred_min\",J_statistic)"
   ]
  },
  {
   "cell_type": "markdown",
   "id": "liquid-invitation",
   "metadata": {},
   "source": [
    "# NODE SIMILARITY"
   ]
  },
  {
   "cell_type": "code",
   "execution_count": 247,
   "id": "unable-place",
   "metadata": {},
   "outputs": [],
   "source": [
    "df = pd.read_csv(\"Node_Sim/Node_Sim5.csv\", sep=\",\")"
   ]
  },
  {
   "cell_type": "code",
   "execution_count": 248,
   "id": "extraordinary-classification",
   "metadata": {},
   "outputs": [],
   "source": [
    "df.columns = [\"Person1\", \"Person2\", \"similarity\", \"gt\"]"
   ]
  },
  {
   "cell_type": "code",
   "execution_count": 249,
   "id": "acquired-fossil",
   "metadata": {},
   "outputs": [
    {
     "data": {
      "text/html": [
       "<div>\n",
       "<style scoped>\n",
       "    .dataframe tbody tr th:only-of-type {\n",
       "        vertical-align: middle;\n",
       "    }\n",
       "\n",
       "    .dataframe tbody tr th {\n",
       "        vertical-align: top;\n",
       "    }\n",
       "\n",
       "    .dataframe thead th {\n",
       "        text-align: right;\n",
       "    }\n",
       "</style>\n",
       "<table border=\"1\" class=\"dataframe\">\n",
       "  <thead>\n",
       "    <tr style=\"text-align: right;\">\n",
       "      <th></th>\n",
       "      <th>Person1</th>\n",
       "      <th>Person2</th>\n",
       "      <th>similarity</th>\n",
       "      <th>gt</th>\n",
       "    </tr>\n",
       "  </thead>\n",
       "  <tbody>\n",
       "    <tr>\n",
       "      <th>0</th>\n",
       "      <td>191000020001</td>\n",
       "      <td>191532120682</td>\n",
       "      <td>0.294118</td>\n",
       "      <td>1</td>\n",
       "    </tr>\n",
       "    <tr>\n",
       "      <th>1</th>\n",
       "      <td>191000020001</td>\n",
       "      <td>191511510241</td>\n",
       "      <td>0.222222</td>\n",
       "      <td>0</td>\n",
       "    </tr>\n",
       "    <tr>\n",
       "      <th>2</th>\n",
       "      <td>191000030001</td>\n",
       "      <td>191532130682</td>\n",
       "      <td>0.150000</td>\n",
       "      <td>1</td>\n",
       "    </tr>\n",
       "    <tr>\n",
       "      <th>3</th>\n",
       "      <td>191000040001</td>\n",
       "      <td>191532140682</td>\n",
       "      <td>0.150000</td>\n",
       "      <td>1</td>\n",
       "    </tr>\n",
       "    <tr>\n",
       "      <th>4</th>\n",
       "      <td>191000180005</td>\n",
       "      <td>191532250685</td>\n",
       "      <td>0.200000</td>\n",
       "      <td>1</td>\n",
       "    </tr>\n",
       "    <tr>\n",
       "      <th>...</th>\n",
       "      <td>...</td>\n",
       "      <td>...</td>\n",
       "      <td>...</td>\n",
       "      <td>...</td>\n",
       "    </tr>\n",
       "    <tr>\n",
       "      <th>1673</th>\n",
       "      <td>192455401090</td>\n",
       "      <td>193062981458</td>\n",
       "      <td>0.300000</td>\n",
       "      <td>1</td>\n",
       "    </tr>\n",
       "    <tr>\n",
       "      <th>1674</th>\n",
       "      <td>192455411090</td>\n",
       "      <td>193062991458</td>\n",
       "      <td>0.300000</td>\n",
       "      <td>1</td>\n",
       "    </tr>\n",
       "    <tr>\n",
       "      <th>1675</th>\n",
       "      <td>192455581094</td>\n",
       "      <td>193052401189</td>\n",
       "      <td>0.200000</td>\n",
       "      <td>1</td>\n",
       "    </tr>\n",
       "    <tr>\n",
       "      <th>1676</th>\n",
       "      <td>192455601094</td>\n",
       "      <td>193052431189</td>\n",
       "      <td>0.266667</td>\n",
       "      <td>1</td>\n",
       "    </tr>\n",
       "    <tr>\n",
       "      <th>1677</th>\n",
       "      <td>192455661096</td>\n",
       "      <td>193052341187</td>\n",
       "      <td>0.235294</td>\n",
       "      <td>1</td>\n",
       "    </tr>\n",
       "  </tbody>\n",
       "</table>\n",
       "<p>1678 rows × 4 columns</p>\n",
       "</div>"
      ],
      "text/plain": [
       "           Person1       Person2  similarity  gt\n",
       "0     191000020001  191532120682    0.294118   1\n",
       "1     191000020001  191511510241    0.222222   0\n",
       "2     191000030001  191532130682    0.150000   1\n",
       "3     191000040001  191532140682    0.150000   1\n",
       "4     191000180005  191532250685    0.200000   1\n",
       "...            ...           ...         ...  ..\n",
       "1673  192455401090  193062981458    0.300000   1\n",
       "1674  192455411090  193062991458    0.300000   1\n",
       "1675  192455581094  193052401189    0.200000   1\n",
       "1676  192455601094  193052431189    0.266667   1\n",
       "1677  192455661096  193052341187    0.235294   1\n",
       "\n",
       "[1678 rows x 4 columns]"
      ]
     },
     "execution_count": 249,
     "metadata": {},
     "output_type": "execute_result"
    }
   ],
   "source": [
    "df"
   ]
  },
  {
   "cell_type": "code",
   "execution_count": 256,
   "id": "unavailable-calcium",
   "metadata": {},
   "outputs": [
    {
     "name": "stdout",
     "output_type": "stream",
     "text": [
      "Best Threshold=0.258065, G-Mean=0.577\n"
     ]
    },
    {
     "data": {
      "image/png": "[encoded data removed]",
      "text/plain": [
       "<Figure size 432x288 with 1 Axes>"
      ]
     },
     "metadata": {
      "needs_background": "light"
     },
     "output_type": "display_data"
    }
   ],
   "source": [
    "df = apply_threshold(df,\"similarity\", \"pred\", G_mean)"
   ]
  }
 ],
 "metadata": {
  "kernelspec": {
   "display_name": "Python 3 (ipykernel)",
   "language": "python",
   "name": "python3"
  },
  "language_info": {
   "codemirror_mode": {
    "name": "ipython",
    "version": 3
   },
   "file_extension": ".py",
   "mimetype": "text/x-python",
   "name": "python",
   "nbconvert_exporter": "python",
   "pygments_lexer": "ipython3",
   "version": "3.8.5"
  }
 },
 "nbformat": 4,
 "nbformat_minor": 5
}
